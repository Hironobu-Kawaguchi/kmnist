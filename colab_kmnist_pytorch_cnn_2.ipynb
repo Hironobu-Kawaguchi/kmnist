{
  "nbformat": 4,
  "nbformat_minor": 0,
  "metadata": {
    "colab": {
      "name": "colab_kmnist_pytorch_cnn-2.ipynb",
      "provenance": [],
      "collapsed_sections": [],
      "include_colab_link": true
    },
    "kernelspec": {
      "name": "python3",
      "display_name": "Python 3"
    },
    "accelerator": "GPU"
  },
  "cells": [
    {
      "cell_type": "markdown",
      "metadata": {
        "id": "view-in-github",
        "colab_type": "text"
      },
      "source": [
        "<a href=\"https://colab.research.google.com/github/Hironobu-Kawaguchi/kmnist/blob/master/colab_kmnist_pytorch_cnn_2.ipynb\" target=\"_parent\"><img src=\"https://colab.research.google.com/assets/colab-badge.svg\" alt=\"Open In Colab\"/></a>"
      ]
    },
    {
      "cell_type": "code",
      "metadata": {
        "id": "RjL_okBrMNKN",
        "colab_type": "code",
        "colab": {}
      },
      "source": [
        "from __future__ import print_function\n",
        "import argparse\n",
        "import numpy as np\n",
        "import torch\n",
        "import torch.nn as nn\n",
        "import torch.nn.functional as F\n",
        "import torch.optim as optim\n",
        "import torch.utils.data as dataset\n",
        "from torchvision import datasets, transforms\n",
        "from torch.optim.lr_scheduler import StepLR"
      ],
      "execution_count": 0,
      "outputs": []
    },
    {
      "cell_type": "code",
      "metadata": {
        "id": "85E9lyoAMW8A",
        "colab_type": "code",
        "colab": {}
      },
      "source": [
        "class Net(nn.Module):\n",
        "    def __init__(self):\n",
        "        super(Net, self).__init__()\n",
        "        self.conv1 = nn.Conv2d(1, 32, 3, 1)\n",
        "        self.conv2 = nn.Conv2d(32, 64, 3, 1)\n",
        "        self.dropout1 = nn.Dropout2d(0.25)\n",
        "        self.dropout2 = nn.Dropout2d(0.5)\n",
        "        self.fc1 = nn.Linear(9216, 128)\n",
        "        self.fc2 = nn.Linear(128, 10)\n",
        "\n",
        "    def forward(self, x):\n",
        "        x = self.conv1(x)\n",
        "        x = F.relu(x)\n",
        "        x = self.conv2(x)\n",
        "        # x = F.relu(x)   # add\n",
        "        x = F.max_pool2d(x, 2)\n",
        "        x = self.dropout1(x)\n",
        "        x = torch.flatten(x, 1)\n",
        "        x = self.fc1(x)\n",
        "        x = F.relu(x)\n",
        "        x = self.dropout2(x)\n",
        "        x = self.fc2(x)\n",
        "        output = F.log_softmax(x, dim=1)\n",
        "        return output"
      ],
      "execution_count": 0,
      "outputs": []
    },
    {
      "cell_type": "code",
      "metadata": {
        "id": "FfV0VuWCMc5O",
        "colab_type": "code",
        "colab": {}
      },
      "source": [
        "def train(args, model, device, train_loader, optimizer, epoch):\n",
        "    model.train()\n",
        "    for batch_idx, (data, target) in enumerate(train_loader):\n",
        "        data, target = data.to(device), target.to(device)\n",
        "        optimizer.zero_grad()\n",
        "        output = model(data)\n",
        "        # loss = F.nll_loss(output, target)\n",
        "        loss = F.cross_entropy(output, target)\n",
        "        loss.backward()\n",
        "        optimizer.step()\n",
        "        if batch_idx % args.log_interval == 0:\n",
        "            print('Train Epoch: {} [{}/{} ({:.0f}%)]\\tLoss: {:.6f}'.format(\n",
        "                epoch, batch_idx * len(data), len(train_loader.dataset),\n",
        "                100. * batch_idx / len(train_loader), loss.item()))\n"
      ],
      "execution_count": 0,
      "outputs": []
    },
    {
      "cell_type": "code",
      "metadata": {
        "id": "IZT_rrnXMe4u",
        "colab_type": "code",
        "colab": {}
      },
      "source": [
        "def test(args, model, device, test_loader):\n",
        "    model.eval()\n",
        "    test_loss = 0\n",
        "    correct = 0\n",
        "    with torch.no_grad():\n",
        "        for data, target in test_loader:\n",
        "            data, target = data.to(device), target.to(device)\n",
        "            output = model(data)\n",
        "            test_loss += F.nll_loss(output, target, reduction='sum').item()  # sum up batch loss\n",
        "            pred = output.argmax(dim=1, keepdim=True)  # get the index of the max log-probability\n",
        "            correct += pred.eq(target.view_as(pred)).sum().item()\n",
        "\n",
        "    test_loss /= len(test_loader.dataset)\n",
        "\n",
        "    print('\\nTest set: Average loss: {:.4f}, Accuracy: {}/{} ({:.0f}%)\\n'.format(\n",
        "        test_loss, correct, len(test_loader.dataset),\n",
        "        100. * correct / len(test_loader.dataset)))\n"
      ],
      "execution_count": 0,
      "outputs": []
    },
    {
      "cell_type": "code",
      "metadata": {
        "id": "KF7EzJFkMhS-",
        "colab_type": "code",
        "colab": {}
      },
      "source": [
        "def main():\n",
        "    # Training settings\n",
        "    parser = argparse.ArgumentParser(description='PyTorch MNIST Example')\n",
        "    parser.add_argument('--batch-size', type=int, default=64, metavar='N',\n",
        "                        help='input batch size for training (default: 64)')\n",
        "    parser.add_argument('--test-batch-size', type=int, default=1000, metavar='N',\n",
        "                        help='input batch size for testing (default: 1000)')\n",
        "    parser.add_argument('--epochs', type=int, default=14, metavar='N',\n",
        "                        help='number of epochs to train (default: 14)')\n",
        "    parser.add_argument('--lr', type=float, default=1.0, metavar='LR',\n",
        "                        help='learning rate (default: 1.0)')\n",
        "    parser.add_argument('--gamma', type=float, default=0.7, metavar='M',\n",
        "                        help='Learning rate step gamma (default: 0.7)')\n",
        "    parser.add_argument('--no-cuda', action='store_true', default=False,\n",
        "                        help='disables CUDA training')\n",
        "    parser.add_argument('--seed', type=int, default=1, metavar='S',\n",
        "                        help='random seed (default: 1)')\n",
        "    parser.add_argument('--log-interval', type=int, default=100, metavar='N',\n",
        "                        help='how many batches to wait before logging training status')\n",
        "\n",
        "    parser.add_argument('--save-model', action='store_true', default=True,\n",
        "                        help='For Saving the current Model')\n",
        "    # args = parser.parse_args()\n",
        "    args = parser.parse_args(args=[])\n",
        "    use_cuda = not args.no_cuda and torch.cuda.is_available()\n",
        "\n",
        "    torch.manual_seed(args.seed)\n",
        "\n",
        "    device = torch.device(\"cuda\" if use_cuda else \"cpu\")\n",
        "\n",
        "    kwargs = {'num_workers': 1, 'pin_memory': True} if use_cuda else {}\n",
        "    train_loader = torch.utils.data.DataLoader(\n",
        "        datasets.KMNIST('../data', train=True, download=True,\n",
        "                       transform=transforms.Compose([\n",
        "                           transforms.ToTensor(),\n",
        "                           transforms.Normalize((0.1307,), (0.3081,))\n",
        "                       ])),\n",
        "        batch_size=args.batch_size, shuffle=True, **kwargs)\n",
        "    test_loader = torch.utils.data.DataLoader(\n",
        "        datasets.KMNIST('../data', train=False, transform=transforms.Compose([\n",
        "                           transforms.ToTensor(),\n",
        "                           transforms.Normalize((0.1307,), (0.3081,))\n",
        "                       ])),\n",
        "        batch_size=args.test_batch_size, shuffle=True, **kwargs)\n",
        "\n",
        "    model = Net().to(device)\n",
        "    optimizer = optim.Adadelta(model.parameters(), lr=args.lr)\n",
        "\n",
        "    scheduler = StepLR(optimizer, step_size=1, gamma=args.gamma)\n",
        "    for epoch in range(1, args.epochs + 1):\n",
        "        train(args, model, device, train_loader, optimizer, epoch)\n",
        "        test(args, model, device, test_loader)\n",
        "        scheduler.step()\n",
        "\n",
        "    if args.save_model:\n",
        "        torch.save(model.state_dict(), \"kmnist_cnn.pt\")\n"
      ],
      "execution_count": 0,
      "outputs": []
    },
    {
      "cell_type": "code",
      "metadata": {
        "id": "nlDcGAeoMjmf",
        "colab_type": "code",
        "outputId": "f15d3efd-78c8-43c5-ae61-4f984851f286",
        "colab": {
          "base_uri": "https://localhost:8080/",
          "height": 1000
        }
      },
      "source": [
        "main()"
      ],
      "execution_count": 6,
      "outputs": [
        {
          "output_type": "stream",
          "text": [
            "\r0it [00:00, ?it/s]"
          ],
          "name": "stderr"
        },
        {
          "output_type": "stream",
          "text": [
            "Downloading http://codh.rois.ac.jp/kmnist/dataset/kmnist/train-images-idx3-ubyte.gz to ../data/KMNIST/raw/train-images-idx3-ubyte.gz\n"
          ],
          "name": "stdout"
        },
        {
          "output_type": "stream",
          "text": [
            " 99%|█████████▉| 18046976/18165135 [00:10<00:00, 4451055.52it/s]"
          ],
          "name": "stderr"
        },
        {
          "output_type": "stream",
          "text": [
            "Extracting ../data/KMNIST/raw/train-images-idx3-ubyte.gz to ../data/KMNIST/raw\n"
          ],
          "name": "stdout"
        },
        {
          "output_type": "stream",
          "text": [
            "\n",
            "0it [00:00, ?it/s]\u001b[A"
          ],
          "name": "stderr"
        },
        {
          "output_type": "stream",
          "text": [
            "Downloading http://codh.rois.ac.jp/kmnist/dataset/kmnist/train-labels-idx1-ubyte.gz to ../data/KMNIST/raw/train-labels-idx1-ubyte.gz\n"
          ],
          "name": "stdout"
        },
        {
          "output_type": "stream",
          "text": [
            "\n",
            "  0%|          | 0/29497 [00:00<?, ?it/s]\u001b[A\n",
            " 56%|█████▌    | 16384/29497 [00:00<00:00, 73198.02it/s]\u001b[A\n",
            "32768it [00:00, 48183.28it/s]                           \u001b[A\n",
            "0it [00:00, ?it/s]\u001b[A"
          ],
          "name": "stderr"
        },
        {
          "output_type": "stream",
          "text": [
            "Extracting ../data/KMNIST/raw/train-labels-idx1-ubyte.gz to ../data/KMNIST/raw\n",
            "Downloading http://codh.rois.ac.jp/kmnist/dataset/kmnist/t10k-images-idx3-ubyte.gz to ../data/KMNIST/raw/t10k-images-idx3-ubyte.gz\n"
          ],
          "name": "stdout"
        },
        {
          "output_type": "stream",
          "text": [
            "\n",
            "  0%|          | 0/3041136 [00:00<?, ?it/s]\u001b[A\n",
            "  1%|          | 16384/3041136 [00:00<00:40, 74962.34it/s]\u001b[A\n",
            "  1%|▏         | 40960/3041136 [00:00<00:36, 83247.05it/s]\u001b[A\n",
            "  3%|▎         | 81920/3041136 [00:01<00:29, 99860.88it/s]\u001b[A\n",
            "  5%|▌         | 163840/3041136 [00:01<00:22, 128005.40it/s]\u001b[A\n",
            "  8%|▊         | 253952/3041136 [00:01<00:17, 161323.61it/s]\u001b[A\n",
            " 13%|█▎        | 393216/3041136 [00:01<00:12, 207863.88it/s]\u001b[A\n",
            " 20%|██        | 614400/3041136 [00:01<00:08, 272606.90it/s]\u001b[A\n",
            " 32%|███▏      | 958464/3041136 [00:02<00:05, 362715.11it/s]\u001b[A\n",
            " 35%|███▍      | 1056768/3041136 [00:02<00:05, 377343.12it/s]\u001b[A\n",
            " 56%|█████▌    | 1695744/3041136 [00:02<00:02, 512034.10it/s]\u001b[A\n",
            " 67%|██████▋   | 2023424/3041136 [00:02<00:01, 637890.62it/s]\u001b[A\n",
            " 78%|███████▊  | 2375680/3041136 [00:03<00:00, 776954.89it/s]\u001b[A\n",
            " 90%|████████▉ | 2727936/3041136 [00:03<00:00, 922219.08it/s]\u001b[A\n",
            "3047424it [00:03, 915936.65it/s]                             \u001b[A\n",
            "0it [00:00, ?it/s]\u001b[A"
          ],
          "name": "stderr"
        },
        {
          "output_type": "stream",
          "text": [
            "Extracting ../data/KMNIST/raw/t10k-images-idx3-ubyte.gz to ../data/KMNIST/raw\n",
            "Downloading http://codh.rois.ac.jp/kmnist/dataset/kmnist/t10k-labels-idx1-ubyte.gz to ../data/KMNIST/raw/t10k-labels-idx1-ubyte.gz\n"
          ],
          "name": "stdout"
        },
        {
          "output_type": "stream",
          "text": [
            "\n",
            "  0%|          | 0/5120 [00:00<?, ?it/s]\u001b[A\n",
            "8192it [00:00, 18305.38it/s]            \u001b[A"
          ],
          "name": "stderr"
        },
        {
          "output_type": "stream",
          "text": [
            "Extracting ../data/KMNIST/raw/t10k-labels-idx1-ubyte.gz to ../data/KMNIST/raw\n",
            "Processing...\n",
            "Done!\n",
            "Train Epoch: 1 [0/60000 (0%)]\tLoss: 2.336921\n",
            "Train Epoch: 1 [6400/60000 (11%)]\tLoss: 0.561426\n",
            "Train Epoch: 1 [12800/60000 (21%)]\tLoss: 0.345984\n"
          ],
          "name": "stdout"
        },
        {
          "output_type": "stream",
          "text": [
            "\r18169856it [00:30, 4451055.52it/s]                              "
          ],
          "name": "stderr"
        },
        {
          "output_type": "stream",
          "text": [
            "Train Epoch: 1 [19200/60000 (32%)]\tLoss: 0.360342\n",
            "Train Epoch: 1 [25600/60000 (43%)]\tLoss: 0.425967\n",
            "Train Epoch: 1 [32000/60000 (53%)]\tLoss: 0.275108\n",
            "Train Epoch: 1 [38400/60000 (64%)]\tLoss: 0.192966\n",
            "Train Epoch: 1 [44800/60000 (75%)]\tLoss: 0.213575\n",
            "Train Epoch: 1 [51200/60000 (85%)]\tLoss: 0.210393\n",
            "Train Epoch: 1 [57600/60000 (96%)]\tLoss: 0.414557\n",
            "\n",
            "Test set: Average loss: 0.3355, Accuracy: 9092/10000 (91%)\n",
            "\n",
            "Train Epoch: 2 [0/60000 (0%)]\tLoss: 0.082735\n",
            "Train Epoch: 2 [6400/60000 (11%)]\tLoss: 0.053388\n",
            "Train Epoch: 2 [12800/60000 (21%)]\tLoss: 0.137213\n",
            "Train Epoch: 2 [19200/60000 (32%)]\tLoss: 0.314053\n",
            "Train Epoch: 2 [25600/60000 (43%)]\tLoss: 0.209911\n",
            "Train Epoch: 2 [32000/60000 (53%)]\tLoss: 0.085720\n",
            "Train Epoch: 2 [38400/60000 (64%)]\tLoss: 0.193942\n",
            "Train Epoch: 2 [44800/60000 (75%)]\tLoss: 0.085430\n",
            "Train Epoch: 2 [51200/60000 (85%)]\tLoss: 0.205925\n",
            "Train Epoch: 2 [57600/60000 (96%)]\tLoss: 0.182198\n",
            "\n",
            "Test set: Average loss: 0.2699, Accuracy: 9354/10000 (94%)\n",
            "\n",
            "Train Epoch: 3 [0/60000 (0%)]\tLoss: 0.088477\n",
            "Train Epoch: 3 [6400/60000 (11%)]\tLoss: 0.033505\n",
            "Train Epoch: 3 [12800/60000 (21%)]\tLoss: 0.074621\n",
            "Train Epoch: 3 [19200/60000 (32%)]\tLoss: 0.085691\n",
            "Train Epoch: 3 [25600/60000 (43%)]\tLoss: 0.092127\n",
            "Train Epoch: 3 [32000/60000 (53%)]\tLoss: 0.111371\n",
            "Train Epoch: 3 [38400/60000 (64%)]\tLoss: 0.027662\n",
            "Train Epoch: 3 [44800/60000 (75%)]\tLoss: 0.149336\n",
            "Train Epoch: 3 [51200/60000 (85%)]\tLoss: 0.084908\n",
            "Train Epoch: 3 [57600/60000 (96%)]\tLoss: 0.058391\n",
            "\n",
            "Test set: Average loss: 0.2363, Accuracy: 9440/10000 (94%)\n",
            "\n",
            "Train Epoch: 4 [0/60000 (0%)]\tLoss: 0.173451\n",
            "Train Epoch: 4 [6400/60000 (11%)]\tLoss: 0.153914\n",
            "Train Epoch: 4 [12800/60000 (21%)]\tLoss: 0.054392\n",
            "Train Epoch: 4 [19200/60000 (32%)]\tLoss: 0.184156\n",
            "Train Epoch: 4 [25600/60000 (43%)]\tLoss: 0.083719\n",
            "Train Epoch: 4 [32000/60000 (53%)]\tLoss: 0.052900\n",
            "Train Epoch: 4 [38400/60000 (64%)]\tLoss: 0.078281\n",
            "Train Epoch: 4 [44800/60000 (75%)]\tLoss: 0.091436\n",
            "Train Epoch: 4 [51200/60000 (85%)]\tLoss: 0.099235\n",
            "Train Epoch: 4 [57600/60000 (96%)]\tLoss: 0.098797\n",
            "\n",
            "Test set: Average loss: 0.2261, Accuracy: 9469/10000 (95%)\n",
            "\n",
            "Train Epoch: 5 [0/60000 (0%)]\tLoss: 0.190019\n",
            "Train Epoch: 5 [6400/60000 (11%)]\tLoss: 0.019004\n",
            "Train Epoch: 5 [12800/60000 (21%)]\tLoss: 0.046096\n",
            "Train Epoch: 5 [19200/60000 (32%)]\tLoss: 0.034721\n",
            "Train Epoch: 5 [25600/60000 (43%)]\tLoss: 0.092966\n",
            "Train Epoch: 5 [32000/60000 (53%)]\tLoss: 0.015408\n",
            "Train Epoch: 5 [38400/60000 (64%)]\tLoss: 0.103852\n",
            "Train Epoch: 5 [44800/60000 (75%)]\tLoss: 0.012698\n",
            "Train Epoch: 5 [51200/60000 (85%)]\tLoss: 0.042039\n",
            "Train Epoch: 5 [57600/60000 (96%)]\tLoss: 0.024164\n",
            "\n",
            "Test set: Average loss: 0.2576, Accuracy: 9445/10000 (94%)\n",
            "\n",
            "Train Epoch: 6 [0/60000 (0%)]\tLoss: 0.102506\n",
            "Train Epoch: 6 [6400/60000 (11%)]\tLoss: 0.066856\n",
            "Train Epoch: 6 [12800/60000 (21%)]\tLoss: 0.016521\n",
            "Train Epoch: 6 [19200/60000 (32%)]\tLoss: 0.094846\n",
            "Train Epoch: 6 [25600/60000 (43%)]\tLoss: 0.181039\n",
            "Train Epoch: 6 [32000/60000 (53%)]\tLoss: 0.034726\n",
            "Train Epoch: 6 [38400/60000 (64%)]\tLoss: 0.056288\n",
            "Train Epoch: 6 [44800/60000 (75%)]\tLoss: 0.111366\n",
            "Train Epoch: 6 [51200/60000 (85%)]\tLoss: 0.004725\n",
            "Train Epoch: 6 [57600/60000 (96%)]\tLoss: 0.037033\n",
            "\n",
            "Test set: Average loss: 0.2419, Accuracy: 9484/10000 (95%)\n",
            "\n",
            "Train Epoch: 7 [0/60000 (0%)]\tLoss: 0.097196\n",
            "Train Epoch: 7 [6400/60000 (11%)]\tLoss: 0.031719\n",
            "Train Epoch: 7 [12800/60000 (21%)]\tLoss: 0.006676\n",
            "Train Epoch: 7 [19200/60000 (32%)]\tLoss: 0.021144\n",
            "Train Epoch: 7 [25600/60000 (43%)]\tLoss: 0.019999\n",
            "Train Epoch: 7 [32000/60000 (53%)]\tLoss: 0.275549\n",
            "Train Epoch: 7 [38400/60000 (64%)]\tLoss: 0.054588\n",
            "Train Epoch: 7 [44800/60000 (75%)]\tLoss: 0.010644\n",
            "Train Epoch: 7 [51200/60000 (85%)]\tLoss: 0.035164\n",
            "Train Epoch: 7 [57600/60000 (96%)]\tLoss: 0.030251\n",
            "\n",
            "Test set: Average loss: 0.2487, Accuracy: 9491/10000 (95%)\n",
            "\n",
            "Train Epoch: 8 [0/60000 (0%)]\tLoss: 0.052111\n",
            "Train Epoch: 8 [6400/60000 (11%)]\tLoss: 0.054198\n",
            "Train Epoch: 8 [12800/60000 (21%)]\tLoss: 0.020135\n",
            "Train Epoch: 8 [19200/60000 (32%)]\tLoss: 0.053701\n",
            "Train Epoch: 8 [25600/60000 (43%)]\tLoss: 0.110937\n",
            "Train Epoch: 8 [32000/60000 (53%)]\tLoss: 0.052671\n",
            "Train Epoch: 8 [38400/60000 (64%)]\tLoss: 0.023151\n",
            "Train Epoch: 8 [44800/60000 (75%)]\tLoss: 0.106638\n",
            "Train Epoch: 8 [51200/60000 (85%)]\tLoss: 0.029201\n",
            "Train Epoch: 8 [57600/60000 (96%)]\tLoss: 0.023488\n",
            "\n",
            "Test set: Average loss: 0.2551, Accuracy: 9484/10000 (95%)\n",
            "\n",
            "Train Epoch: 9 [0/60000 (0%)]\tLoss: 0.038600\n",
            "Train Epoch: 9 [6400/60000 (11%)]\tLoss: 0.009575\n",
            "Train Epoch: 9 [12800/60000 (21%)]\tLoss: 0.061615\n",
            "Train Epoch: 9 [19200/60000 (32%)]\tLoss: 0.072790\n",
            "Train Epoch: 9 [25600/60000 (43%)]\tLoss: 0.007338\n",
            "Train Epoch: 9 [32000/60000 (53%)]\tLoss: 0.039092\n",
            "Train Epoch: 9 [38400/60000 (64%)]\tLoss: 0.020525\n",
            "Train Epoch: 9 [44800/60000 (75%)]\tLoss: 0.056138\n",
            "Train Epoch: 9 [51200/60000 (85%)]\tLoss: 0.061079\n",
            "Train Epoch: 9 [57600/60000 (96%)]\tLoss: 0.016406\n",
            "\n",
            "Test set: Average loss: 0.2259, Accuracy: 9513/10000 (95%)\n",
            "\n",
            "Train Epoch: 10 [0/60000 (0%)]\tLoss: 0.017793\n",
            "Train Epoch: 10 [6400/60000 (11%)]\tLoss: 0.031660\n",
            "Train Epoch: 10 [12800/60000 (21%)]\tLoss: 0.123286\n",
            "Train Epoch: 10 [19200/60000 (32%)]\tLoss: 0.116594\n",
            "Train Epoch: 10 [25600/60000 (43%)]\tLoss: 0.072348\n",
            "Train Epoch: 10 [32000/60000 (53%)]\tLoss: 0.079187\n",
            "Train Epoch: 10 [38400/60000 (64%)]\tLoss: 0.001246\n",
            "Train Epoch: 10 [44800/60000 (75%)]\tLoss: 0.004499\n",
            "Train Epoch: 10 [51200/60000 (85%)]\tLoss: 0.037647\n",
            "Train Epoch: 10 [57600/60000 (96%)]\tLoss: 0.038319\n",
            "\n",
            "Test set: Average loss: 0.2355, Accuracy: 9505/10000 (95%)\n",
            "\n",
            "Train Epoch: 11 [0/60000 (0%)]\tLoss: 0.115173\n",
            "Train Epoch: 11 [6400/60000 (11%)]\tLoss: 0.007866\n",
            "Train Epoch: 11 [12800/60000 (21%)]\tLoss: 0.022389\n",
            "Train Epoch: 11 [19200/60000 (32%)]\tLoss: 0.008973\n",
            "Train Epoch: 11 [25600/60000 (43%)]\tLoss: 0.162601\n",
            "Train Epoch: 11 [32000/60000 (53%)]\tLoss: 0.001122\n",
            "Train Epoch: 11 [38400/60000 (64%)]\tLoss: 0.066648\n",
            "Train Epoch: 11 [44800/60000 (75%)]\tLoss: 0.074641\n",
            "Train Epoch: 11 [51200/60000 (85%)]\tLoss: 0.022585\n",
            "Train Epoch: 11 [57600/60000 (96%)]\tLoss: 0.037952\n",
            "\n",
            "Test set: Average loss: 0.2365, Accuracy: 9510/10000 (95%)\n",
            "\n",
            "Train Epoch: 12 [0/60000 (0%)]\tLoss: 0.004362\n",
            "Train Epoch: 12 [6400/60000 (11%)]\tLoss: 0.088176\n",
            "Train Epoch: 12 [12800/60000 (21%)]\tLoss: 0.126038\n",
            "Train Epoch: 12 [19200/60000 (32%)]\tLoss: 0.047896\n",
            "Train Epoch: 12 [25600/60000 (43%)]\tLoss: 0.053898\n",
            "Train Epoch: 12 [32000/60000 (53%)]\tLoss: 0.048451\n",
            "Train Epoch: 12 [38400/60000 (64%)]\tLoss: 0.010760\n",
            "Train Epoch: 12 [44800/60000 (75%)]\tLoss: 0.052025\n",
            "Train Epoch: 12 [51200/60000 (85%)]\tLoss: 0.074887\n",
            "Train Epoch: 12 [57600/60000 (96%)]\tLoss: 0.041772\n",
            "\n",
            "Test set: Average loss: 0.2315, Accuracy: 9511/10000 (95%)\n",
            "\n",
            "Train Epoch: 13 [0/60000 (0%)]\tLoss: 0.026748\n",
            "Train Epoch: 13 [6400/60000 (11%)]\tLoss: 0.061878\n",
            "Train Epoch: 13 [12800/60000 (21%)]\tLoss: 0.002379\n",
            "Train Epoch: 13 [19200/60000 (32%)]\tLoss: 0.052414\n",
            "Train Epoch: 13 [25600/60000 (43%)]\tLoss: 0.088290\n",
            "Train Epoch: 13 [32000/60000 (53%)]\tLoss: 0.010792\n",
            "Train Epoch: 13 [38400/60000 (64%)]\tLoss: 0.095204\n",
            "Train Epoch: 13 [44800/60000 (75%)]\tLoss: 0.021290\n",
            "Train Epoch: 13 [51200/60000 (85%)]\tLoss: 0.126124\n",
            "Train Epoch: 13 [57600/60000 (96%)]\tLoss: 0.004632\n",
            "\n",
            "Test set: Average loss: 0.2343, Accuracy: 9509/10000 (95%)\n",
            "\n",
            "Train Epoch: 14 [0/60000 (0%)]\tLoss: 0.008841\n",
            "Train Epoch: 14 [6400/60000 (11%)]\tLoss: 0.029919\n",
            "Train Epoch: 14 [12800/60000 (21%)]\tLoss: 0.020248\n",
            "Train Epoch: 14 [19200/60000 (32%)]\tLoss: 0.004077\n",
            "Train Epoch: 14 [25600/60000 (43%)]\tLoss: 0.008996\n",
            "Train Epoch: 14 [32000/60000 (53%)]\tLoss: 0.017341\n",
            "Train Epoch: 14 [38400/60000 (64%)]\tLoss: 0.060268\n",
            "Train Epoch: 14 [44800/60000 (75%)]\tLoss: 0.032035\n",
            "Train Epoch: 14 [51200/60000 (85%)]\tLoss: 0.006302\n",
            "Train Epoch: 14 [57600/60000 (96%)]\tLoss: 0.003047\n",
            "\n",
            "Test set: Average loss: 0.2387, Accuracy: 9514/10000 (95%)\n",
            "\n"
          ],
          "name": "stdout"
        }
      ]
    },
    {
      "cell_type": "code",
      "metadata": {
        "id": "TrGGPuzJTvFl",
        "colab_type": "code",
        "outputId": "7192d7c3-ae20-4f77-f7a1-b0d87cfb573c",
        "colab": {
          "base_uri": "https://localhost:8080/",
          "height": 34
        }
      },
      "source": [
        "torch.__version__"
      ],
      "execution_count": 0,
      "outputs": [
        {
          "output_type": "execute_result",
          "data": {
            "text/plain": [
              "'1.3.1'"
            ]
          },
          "metadata": {
            "tags": []
          },
          "execution_count": 16
        }
      ]
    },
    {
      "cell_type": "code",
      "metadata": {
        "id": "ayFLgOxKUKAU",
        "colab_type": "code",
        "outputId": "da66bf8a-6c29-458e-cd77-d5636c149a9b",
        "colab": {
          "base_uri": "https://localhost:8080/",
          "height": 34
        }
      },
      "source": [
        "import torchvision\n",
        "torchvision.__version__"
      ],
      "execution_count": 0,
      "outputs": [
        {
          "output_type": "execute_result",
          "data": {
            "text/plain": [
              "'0.4.2'"
            ]
          },
          "metadata": {
            "tags": []
          },
          "execution_count": 19
        }
      ]
    },
    {
      "cell_type": "code",
      "metadata": {
        "id": "Ao-L8lY3UNXE",
        "colab_type": "code",
        "outputId": "da1530ed-7190-41a7-e9ad-201de1198689",
        "colab": {
          "base_uri": "https://localhost:8080/",
          "height": 34
        }
      },
      "source": [
        "np.__version__"
      ],
      "execution_count": 0,
      "outputs": [
        {
          "output_type": "execute_result",
          "data": {
            "text/plain": [
              "'1.17.4'"
            ]
          },
          "metadata": {
            "tags": []
          },
          "execution_count": 20
        }
      ]
    },
    {
      "cell_type": "code",
      "metadata": {
        "id": "itQP5ZjyUSET",
        "colab_type": "code",
        "outputId": "6760c991-c6d9-41ba-cf25-5a70f9b1d5fb",
        "colab": {
          "base_uri": "https://localhost:8080/",
          "height": 34
        }
      },
      "source": [
        "import sys\n",
        "sys.version"
      ],
      "execution_count": 0,
      "outputs": [
        {
          "output_type": "execute_result",
          "data": {
            "text/plain": [
              "'3.6.9 (default, Nov  7 2019, 10:44:02) \\n[GCC 8.3.0]'"
            ]
          },
          "metadata": {
            "tags": []
          },
          "execution_count": 21
        }
      ]
    },
    {
      "cell_type": "code",
      "metadata": {
        "id": "xbSmeZ7dVRZE",
        "colab_type": "code",
        "colab": {}
      },
      "source": [
        ""
      ],
      "execution_count": 0,
      "outputs": []
    }
  ]
}